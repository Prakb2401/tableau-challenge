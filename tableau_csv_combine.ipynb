{
 "cells": [
  {
   "cell_type": "code",
   "execution_count": 1,
   "id": "4fabda67",
   "metadata": {},
   "outputs": [],
   "source": [
    "import pandas as pd"
   ]
  },
  {
   "cell_type": "code",
   "execution_count": 2,
   "id": "d1129197",
   "metadata": {},
   "outputs": [],
   "source": [
    "May = pd.read_csv(\"C:/Users/prakb/OneDrive/Desktop/tableau-challenge/CSV Data/JC-202205-citibike-tripdata.csv\", sep=',')\n",
    "June = pd.read_csv(\"C:/Users/prakb/OneDrive/Desktop/tableau-challenge/CSV Data/JC-202206-citibike-tripdata.csv\", sep=',')\n",
    "July = pd.read_csv(\"C:/Users/prakb/OneDrive/Desktop/tableau-challenge/CSV Data/JC-202207-citbike-tripdata.csv\", sep=',')"
   ]
  },
  {
   "cell_type": "code",
   "execution_count": 6,
   "id": "3067d461",
   "metadata": {},
   "outputs": [],
   "source": [
    "#May\n",
    "#June\n",
    "#July"
   ]
  },
  {
   "cell_type": "code",
   "execution_count": 7,
   "id": "61245340",
   "metadata": {},
   "outputs": [],
   "source": [
    "combine_csv_df = pd.concat([May, June, July])"
   ]
  },
  {
   "cell_type": "code",
   "execution_count": 8,
   "id": "e69cebbc",
   "metadata": {},
   "outputs": [
    {
     "data": {
      "text/html": [
       "<div>\n",
       "<style scoped>\n",
       "    .dataframe tbody tr th:only-of-type {\n",
       "        vertical-align: middle;\n",
       "    }\n",
       "\n",
       "    .dataframe tbody tr th {\n",
       "        vertical-align: top;\n",
       "    }\n",
       "\n",
       "    .dataframe thead th {\n",
       "        text-align: right;\n",
       "    }\n",
       "</style>\n",
       "<table border=\"1\" class=\"dataframe\">\n",
       "  <thead>\n",
       "    <tr style=\"text-align: right;\">\n",
       "      <th></th>\n",
       "      <th>ride_id</th>\n",
       "      <th>rideable_type</th>\n",
       "      <th>started_at</th>\n",
       "      <th>ended_at</th>\n",
       "      <th>start_station_name</th>\n",
       "      <th>start_station_id</th>\n",
       "      <th>end_station_name</th>\n",
       "      <th>end_station_id</th>\n",
       "      <th>start_lat</th>\n",
       "      <th>start_lng</th>\n",
       "      <th>end_lat</th>\n",
       "      <th>end_lng</th>\n",
       "      <th>member_casual</th>\n",
       "    </tr>\n",
       "  </thead>\n",
       "  <tbody>\n",
       "    <tr>\n",
       "      <th>0</th>\n",
       "      <td>FC9EB68D6501F079</td>\n",
       "      <td>electric_bike</td>\n",
       "      <td>2022-05-15 14:02:06</td>\n",
       "      <td>2022-05-15 14:05:44</td>\n",
       "      <td>Hoboken Terminal - Hudson St &amp; Hudson Pl</td>\n",
       "      <td>HB101</td>\n",
       "      <td>Hudson St &amp; 4 St</td>\n",
       "      <td>HB607</td>\n",
       "      <td>40.735938</td>\n",
       "      <td>-74.030305</td>\n",
       "      <td>40.740973</td>\n",
       "      <td>-74.028603</td>\n",
       "      <td>member</td>\n",
       "    </tr>\n",
       "    <tr>\n",
       "      <th>1</th>\n",
       "      <td>932A2D5E45ACED5B</td>\n",
       "      <td>electric_bike</td>\n",
       "      <td>2022-05-13 15:30:14</td>\n",
       "      <td>2022-05-13 15:33:03</td>\n",
       "      <td>Hoboken Terminal - Hudson St &amp; Hudson Pl</td>\n",
       "      <td>HB101</td>\n",
       "      <td>Hudson St &amp; 4 St</td>\n",
       "      <td>HB607</td>\n",
       "      <td>40.735938</td>\n",
       "      <td>-74.030305</td>\n",
       "      <td>40.740973</td>\n",
       "      <td>-74.028603</td>\n",
       "      <td>casual</td>\n",
       "    </tr>\n",
       "    <tr>\n",
       "      <th>2</th>\n",
       "      <td>8C0CD371C7A5795C</td>\n",
       "      <td>electric_bike</td>\n",
       "      <td>2022-05-31 20:41:39</td>\n",
       "      <td>2022-05-31 22:04:47</td>\n",
       "      <td>Hoboken Terminal - Hudson St &amp; Hudson Pl</td>\n",
       "      <td>HB101</td>\n",
       "      <td>South Waterfront Walkway - Sinatra Dr &amp; 1 St</td>\n",
       "      <td>HB103</td>\n",
       "      <td>40.735938</td>\n",
       "      <td>-74.030305</td>\n",
       "      <td>40.736982</td>\n",
       "      <td>-74.027781</td>\n",
       "      <td>casual</td>\n",
       "    </tr>\n",
       "    <tr>\n",
       "      <th>3</th>\n",
       "      <td>25BC1B079FBC71B9</td>\n",
       "      <td>classic_bike</td>\n",
       "      <td>2022-05-29 17:24:23</td>\n",
       "      <td>2022-05-30 18:24:16</td>\n",
       "      <td>Hoboken Terminal - Hudson St &amp; Hudson Pl</td>\n",
       "      <td>HB101</td>\n",
       "      <td>NaN</td>\n",
       "      <td>NaN</td>\n",
       "      <td>40.735938</td>\n",
       "      <td>-74.030305</td>\n",
       "      <td>NaN</td>\n",
       "      <td>NaN</td>\n",
       "      <td>member</td>\n",
       "    </tr>\n",
       "    <tr>\n",
       "      <th>4</th>\n",
       "      <td>0B0F776B55C85AB8</td>\n",
       "      <td>classic_bike</td>\n",
       "      <td>2022-05-26 16:49:12</td>\n",
       "      <td>2022-05-26 16:57:01</td>\n",
       "      <td>Hoboken Terminal - Hudson St &amp; Hudson Pl</td>\n",
       "      <td>HB101</td>\n",
       "      <td>Hoboken Ave at Monmouth St</td>\n",
       "      <td>JC105</td>\n",
       "      <td>40.735938</td>\n",
       "      <td>-74.030305</td>\n",
       "      <td>40.735208</td>\n",
       "      <td>-74.046964</td>\n",
       "      <td>member</td>\n",
       "    </tr>\n",
       "  </tbody>\n",
       "</table>\n",
       "</div>"
      ],
      "text/plain": [
       "            ride_id  rideable_type           started_at             ended_at  \\\n",
       "0  FC9EB68D6501F079  electric_bike  2022-05-15 14:02:06  2022-05-15 14:05:44   \n",
       "1  932A2D5E45ACED5B  electric_bike  2022-05-13 15:30:14  2022-05-13 15:33:03   \n",
       "2  8C0CD371C7A5795C  electric_bike  2022-05-31 20:41:39  2022-05-31 22:04:47   \n",
       "3  25BC1B079FBC71B9   classic_bike  2022-05-29 17:24:23  2022-05-30 18:24:16   \n",
       "4  0B0F776B55C85AB8   classic_bike  2022-05-26 16:49:12  2022-05-26 16:57:01   \n",
       "\n",
       "                         start_station_name start_station_id  \\\n",
       "0  Hoboken Terminal - Hudson St & Hudson Pl            HB101   \n",
       "1  Hoboken Terminal - Hudson St & Hudson Pl            HB101   \n",
       "2  Hoboken Terminal - Hudson St & Hudson Pl            HB101   \n",
       "3  Hoboken Terminal - Hudson St & Hudson Pl            HB101   \n",
       "4  Hoboken Terminal - Hudson St & Hudson Pl            HB101   \n",
       "\n",
       "                               end_station_name end_station_id  start_lat  \\\n",
       "0                              Hudson St & 4 St          HB607  40.735938   \n",
       "1                              Hudson St & 4 St          HB607  40.735938   \n",
       "2  South Waterfront Walkway - Sinatra Dr & 1 St          HB103  40.735938   \n",
       "3                                           NaN            NaN  40.735938   \n",
       "4                    Hoboken Ave at Monmouth St          JC105  40.735938   \n",
       "\n",
       "   start_lng    end_lat    end_lng member_casual  \n",
       "0 -74.030305  40.740973 -74.028603        member  \n",
       "1 -74.030305  40.740973 -74.028603        casual  \n",
       "2 -74.030305  40.736982 -74.027781        casual  \n",
       "3 -74.030305        NaN        NaN        member  \n",
       "4 -74.030305  40.735208 -74.046964        member  "
      ]
     },
     "execution_count": 8,
     "metadata": {},
     "output_type": "execute_result"
    }
   ],
   "source": [
    "combine_csv_df.head()"
   ]
  },
  {
   "cell_type": "code",
   "execution_count": 9,
   "id": "60cb4eaf",
   "metadata": {},
   "outputs": [
    {
     "name": "stdout",
     "output_type": "stream",
     "text": [
      "292283\n"
     ]
    }
   ],
   "source": [
    "print(len(combine_csv_df))"
   ]
  },
  {
   "cell_type": "code",
   "execution_count": 10,
   "id": "1c033b33",
   "metadata": {},
   "outputs": [],
   "source": [
    "combine_csv_df.to_csv(r'CSV Data/Citibike_Complete.csv', index = False)"
   ]
  },
  {
   "cell_type": "code",
   "execution_count": null,
   "id": "840bc8eb",
   "metadata": {},
   "outputs": [],
   "source": []
  }
 ],
 "metadata": {
  "kernelspec": {
   "display_name": "Python 3 (ipykernel)",
   "language": "python",
   "name": "python3"
  },
  "language_info": {
   "codemirror_mode": {
    "name": "ipython",
    "version": 3
   },
   "file_extension": ".py",
   "mimetype": "text/x-python",
   "name": "python",
   "nbconvert_exporter": "python",
   "pygments_lexer": "ipython3",
   "version": "3.9.7"
  }
 },
 "nbformat": 4,
 "nbformat_minor": 5
}
